{
 "cells": [
  {
   "cell_type": "markdown",
   "id": "2732064a",
   "metadata": {},
   "source": [
    "### PRE-PROCESSING AND FEATURE EXTRACTION "
   ]
  },
  {
   "cell_type": "code",
   "execution_count": 106,
   "id": "6bdee7c0",
   "metadata": {},
   "outputs": [],
   "source": [
    "import pandas as pd \n",
    "import numpy as np\n",
    "import matplotlib.pyplot as plt \n",
    "import seaborn as sns\n",
    "\n"
   ]
  },
  {
   "cell_type": "code",
   "execution_count": 107,
   "id": "276e1987",
   "metadata": {},
   "outputs": [],
   "source": [
    "df = pd.read_csv('/Users/shaguntembhurne/all_github/student-dropout-prediction/dataset (1).csv')"
   ]
  },
  {
   "cell_type": "code",
   "execution_count": 108,
   "id": "137cd648",
   "metadata": {},
   "outputs": [
    {
     "data": {
      "text/html": [
       "<div>\n",
       "<style scoped>\n",
       "    .dataframe tbody tr th:only-of-type {\n",
       "        vertical-align: middle;\n",
       "    }\n",
       "\n",
       "    .dataframe tbody tr th {\n",
       "        vertical-align: top;\n",
       "    }\n",
       "\n",
       "    .dataframe thead th {\n",
       "        text-align: right;\n",
       "    }\n",
       "</style>\n",
       "<table border=\"1\" class=\"dataframe\">\n",
       "  <thead>\n",
       "    <tr style=\"text-align: right;\">\n",
       "      <th></th>\n",
       "      <th>Marital status</th>\n",
       "      <th>Application mode</th>\n",
       "      <th>Application order</th>\n",
       "      <th>Course</th>\n",
       "      <th>Daytime/evening attendance</th>\n",
       "      <th>Previous qualification</th>\n",
       "      <th>Nacionality</th>\n",
       "      <th>Mother's qualification</th>\n",
       "      <th>Father's qualification</th>\n",
       "      <th>Mother's occupation</th>\n",
       "      <th>...</th>\n",
       "      <th>Curricular units 2nd sem (credited)</th>\n",
       "      <th>Curricular units 2nd sem (enrolled)</th>\n",
       "      <th>Curricular units 2nd sem (evaluations)</th>\n",
       "      <th>Curricular units 2nd sem (approved)</th>\n",
       "      <th>Curricular units 2nd sem (grade)</th>\n",
       "      <th>Curricular units 2nd sem (without evaluations)</th>\n",
       "      <th>Unemployment rate</th>\n",
       "      <th>Inflation rate</th>\n",
       "      <th>GDP</th>\n",
       "      <th>Target</th>\n",
       "    </tr>\n",
       "  </thead>\n",
       "  <tbody>\n",
       "    <tr>\n",
       "      <th>0</th>\n",
       "      <td>1</td>\n",
       "      <td>8</td>\n",
       "      <td>5</td>\n",
       "      <td>2</td>\n",
       "      <td>1</td>\n",
       "      <td>1</td>\n",
       "      <td>1</td>\n",
       "      <td>13</td>\n",
       "      <td>10</td>\n",
       "      <td>6</td>\n",
       "      <td>...</td>\n",
       "      <td>0</td>\n",
       "      <td>0</td>\n",
       "      <td>0</td>\n",
       "      <td>0</td>\n",
       "      <td>0.000000</td>\n",
       "      <td>0</td>\n",
       "      <td>10.8</td>\n",
       "      <td>1.4</td>\n",
       "      <td>1.74</td>\n",
       "      <td>Dropout</td>\n",
       "    </tr>\n",
       "    <tr>\n",
       "      <th>1</th>\n",
       "      <td>1</td>\n",
       "      <td>6</td>\n",
       "      <td>1</td>\n",
       "      <td>11</td>\n",
       "      <td>1</td>\n",
       "      <td>1</td>\n",
       "      <td>1</td>\n",
       "      <td>1</td>\n",
       "      <td>3</td>\n",
       "      <td>4</td>\n",
       "      <td>...</td>\n",
       "      <td>0</td>\n",
       "      <td>6</td>\n",
       "      <td>6</td>\n",
       "      <td>6</td>\n",
       "      <td>13.666667</td>\n",
       "      <td>0</td>\n",
       "      <td>13.9</td>\n",
       "      <td>-0.3</td>\n",
       "      <td>0.79</td>\n",
       "      <td>Graduate</td>\n",
       "    </tr>\n",
       "    <tr>\n",
       "      <th>2</th>\n",
       "      <td>1</td>\n",
       "      <td>1</td>\n",
       "      <td>5</td>\n",
       "      <td>5</td>\n",
       "      <td>1</td>\n",
       "      <td>1</td>\n",
       "      <td>1</td>\n",
       "      <td>22</td>\n",
       "      <td>27</td>\n",
       "      <td>10</td>\n",
       "      <td>...</td>\n",
       "      <td>0</td>\n",
       "      <td>6</td>\n",
       "      <td>0</td>\n",
       "      <td>0</td>\n",
       "      <td>0.000000</td>\n",
       "      <td>0</td>\n",
       "      <td>10.8</td>\n",
       "      <td>1.4</td>\n",
       "      <td>1.74</td>\n",
       "      <td>Dropout</td>\n",
       "    </tr>\n",
       "    <tr>\n",
       "      <th>3</th>\n",
       "      <td>1</td>\n",
       "      <td>8</td>\n",
       "      <td>2</td>\n",
       "      <td>15</td>\n",
       "      <td>1</td>\n",
       "      <td>1</td>\n",
       "      <td>1</td>\n",
       "      <td>23</td>\n",
       "      <td>27</td>\n",
       "      <td>6</td>\n",
       "      <td>...</td>\n",
       "      <td>0</td>\n",
       "      <td>6</td>\n",
       "      <td>10</td>\n",
       "      <td>5</td>\n",
       "      <td>12.400000</td>\n",
       "      <td>0</td>\n",
       "      <td>9.4</td>\n",
       "      <td>-0.8</td>\n",
       "      <td>-3.12</td>\n",
       "      <td>Graduate</td>\n",
       "    </tr>\n",
       "    <tr>\n",
       "      <th>4</th>\n",
       "      <td>2</td>\n",
       "      <td>12</td>\n",
       "      <td>1</td>\n",
       "      <td>3</td>\n",
       "      <td>0</td>\n",
       "      <td>1</td>\n",
       "      <td>1</td>\n",
       "      <td>22</td>\n",
       "      <td>28</td>\n",
       "      <td>10</td>\n",
       "      <td>...</td>\n",
       "      <td>0</td>\n",
       "      <td>6</td>\n",
       "      <td>6</td>\n",
       "      <td>6</td>\n",
       "      <td>13.000000</td>\n",
       "      <td>0</td>\n",
       "      <td>13.9</td>\n",
       "      <td>-0.3</td>\n",
       "      <td>0.79</td>\n",
       "      <td>Graduate</td>\n",
       "    </tr>\n",
       "  </tbody>\n",
       "</table>\n",
       "<p>5 rows × 35 columns</p>\n",
       "</div>"
      ],
      "text/plain": [
       "   Marital status  Application mode  Application order  Course  \\\n",
       "0               1                 8                  5       2   \n",
       "1               1                 6                  1      11   \n",
       "2               1                 1                  5       5   \n",
       "3               1                 8                  2      15   \n",
       "4               2                12                  1       3   \n",
       "\n",
       "   Daytime/evening attendance  Previous qualification  Nacionality  \\\n",
       "0                           1                       1            1   \n",
       "1                           1                       1            1   \n",
       "2                           1                       1            1   \n",
       "3                           1                       1            1   \n",
       "4                           0                       1            1   \n",
       "\n",
       "   Mother's qualification  Father's qualification  Mother's occupation  ...  \\\n",
       "0                      13                      10                    6  ...   \n",
       "1                       1                       3                    4  ...   \n",
       "2                      22                      27                   10  ...   \n",
       "3                      23                      27                    6  ...   \n",
       "4                      22                      28                   10  ...   \n",
       "\n",
       "   Curricular units 2nd sem (credited)  Curricular units 2nd sem (enrolled)  \\\n",
       "0                                    0                                    0   \n",
       "1                                    0                                    6   \n",
       "2                                    0                                    6   \n",
       "3                                    0                                    6   \n",
       "4                                    0                                    6   \n",
       "\n",
       "   Curricular units 2nd sem (evaluations)  \\\n",
       "0                                       0   \n",
       "1                                       6   \n",
       "2                                       0   \n",
       "3                                      10   \n",
       "4                                       6   \n",
       "\n",
       "   Curricular units 2nd sem (approved)  Curricular units 2nd sem (grade)  \\\n",
       "0                                    0                          0.000000   \n",
       "1                                    6                         13.666667   \n",
       "2                                    0                          0.000000   \n",
       "3                                    5                         12.400000   \n",
       "4                                    6                         13.000000   \n",
       "\n",
       "   Curricular units 2nd sem (without evaluations)  Unemployment rate  \\\n",
       "0                                               0               10.8   \n",
       "1                                               0               13.9   \n",
       "2                                               0               10.8   \n",
       "3                                               0                9.4   \n",
       "4                                               0               13.9   \n",
       "\n",
       "   Inflation rate   GDP    Target  \n",
       "0             1.4  1.74   Dropout  \n",
       "1            -0.3  0.79  Graduate  \n",
       "2             1.4  1.74   Dropout  \n",
       "3            -0.8 -3.12  Graduate  \n",
       "4            -0.3  0.79  Graduate  \n",
       "\n",
       "[5 rows x 35 columns]"
      ]
     },
     "execution_count": 108,
     "metadata": {},
     "output_type": "execute_result"
    }
   ],
   "source": [
    "df.head()"
   ]
  },
  {
   "cell_type": "code",
   "execution_count": 109,
   "id": "222770d7",
   "metadata": {},
   "outputs": [
    {
     "data": {
      "text/plain": [
       "count    4424.000000\n",
       "mean       23.265145\n",
       "std         7.587816\n",
       "min        17.000000\n",
       "25%        19.000000\n",
       "50%        20.000000\n",
       "75%        25.000000\n",
       "max        70.000000\n",
       "Name: Age at enrollment, dtype: float64"
      ]
     },
     "execution_count": 109,
     "metadata": {},
     "output_type": "execute_result"
    }
   ],
   "source": [
    "df['Age at enrollment'].describe()"
   ]
  },
  {
   "cell_type": "code",
   "execution_count": 110,
   "id": "e876cafd",
   "metadata": {},
   "outputs": [
    {
     "name": "stderr",
     "output_type": "stream",
     "text": [
      "/var/folders/5g/d4w65y255q71sd01crv0ynm00000gn/T/ipykernel_95427/340747669.py:9: FutureWarning: A value is trying to be set on a copy of a DataFrame or Series through chained assignment using an inplace method.\n",
      "The behavior will change in pandas 3.0. This inplace method will never work because the intermediate object on which we are setting values always behaves as a copy.\n",
      "\n",
      "For example, when doing 'df[col].method(value, inplace=True)', try using 'df.method({col: value}, inplace=True)' or df[col] = df[col].method(value) instead, to perform the operation inplace on the original object.\n",
      "\n",
      "\n",
      "  df['sem1_pass_rate'].fillna(0, inplace=True)\n",
      "/var/folders/5g/d4w65y255q71sd01crv0ynm00000gn/T/ipykernel_95427/340747669.py:12: FutureWarning: A value is trying to be set on a copy of a DataFrame or Series through chained assignment using an inplace method.\n",
      "The behavior will change in pandas 3.0. This inplace method will never work because the intermediate object on which we are setting values always behaves as a copy.\n",
      "\n",
      "For example, when doing 'df[col].method(value, inplace=True)', try using 'df.method({col: value}, inplace=True)' or df[col] = df[col].method(value) instead, to perform the operation inplace on the original object.\n",
      "\n",
      "\n",
      "  df['sem1_eval_completion_rate'].fillna(0, inplace=True)\n"
     ]
    }
   ],
   "source": [
    "\n",
    "# --- STEP 1: THE FULL TRANSFORMATION SCRIPT ---\n",
    "\n",
    "# 1a. Load the raw data\n",
    "df = pd.read_csv('dataset (1).csv')\n",
    "\n",
    "# 1b. Create our 4 engineered features\n",
    "# Success Rate\n",
    "df['sem1_pass_rate'] = df['Curricular units 1st sem (approved)'] / df['Curricular units 1st sem (enrolled)']\n",
    "df['sem1_pass_rate'].fillna(0, inplace=True)\n",
    "# Completion Rate\n",
    "df['sem1_eval_completion_rate'] = df['Curricular units 1st sem (evaluations)'] / df['Curricular units 1st sem (enrolled)']\n",
    "df['sem1_eval_completion_rate'].fillna(0, inplace=True)\n",
    "# Maturity\n",
    "df['is_mature_student'] = (df['Age at enrollment'] > 25).astype(int)\n",
    "# Financial Strain\n",
    "df['financial_strain'] = ((df['Debtor'] == 1) & (df['Tuition fees up to date'] == 0)).astype(int)\n"
   ]
  },
  {
   "cell_type": "markdown",
   "id": "104ec23e",
   "metadata": {},
   "source": [
    "### PROCESSING AND TRANSFORMATION"
   ]
  },
  {
   "cell_type": "code",
   "execution_count": 111,
   "id": "265d9a08",
   "metadata": {},
   "outputs": [
    {
     "name": "stdout",
     "output_type": "stream",
     "text": [
      "Preprocessing Complete!\n",
      "Shape of our training features (X_train): (3539, 240)\n",
      "Shape of our testing features (X_test): (885, 240)\n",
      "Shape of our training target (y_train): (3539,)\n",
      "Shape of our testing target (y_test): (885,)\n"
     ]
    },
    {
     "name": "stderr",
     "output_type": "stream",
     "text": [
      "/var/folders/5g/d4w65y255q71sd01crv0ynm00000gn/T/ipykernel_95427/594494151.py:8: FutureWarning: A value is trying to be set on a copy of a DataFrame or Series through chained assignment using an inplace method.\n",
      "The behavior will change in pandas 3.0. This inplace method will never work because the intermediate object on which we are setting values always behaves as a copy.\n",
      "\n",
      "For example, when doing 'df[col].method(value, inplace=True)', try using 'df.method({col: value}, inplace=True)' or df[col] = df[col].method(value) instead, to perform the operation inplace on the original object.\n",
      "\n",
      "\n",
      "  df['sem1_pass_rate'].fillna(0, inplace=True)\n",
      "/var/folders/5g/d4w65y255q71sd01crv0ynm00000gn/T/ipykernel_95427/594494151.py:11: FutureWarning: A value is trying to be set on a copy of a DataFrame or Series through chained assignment using an inplace method.\n",
      "The behavior will change in pandas 3.0. This inplace method will never work because the intermediate object on which we are setting values always behaves as a copy.\n",
      "\n",
      "For example, when doing 'df[col].method(value, inplace=True)', try using 'df.method({col: value}, inplace=True)' or df[col] = df[col].method(value) instead, to perform the operation inplace on the original object.\n",
      "\n",
      "\n",
      "  df['sem1_eval_completion_rate'].fillna(0, inplace=True)\n"
     ]
    }
   ],
   "source": [
    "import pandas as pd\n",
    "from sklearn.preprocessing import StandardScaler\n",
    "from sklearn.model_selection import train_test_split\n",
    "\n",
    "# 1b. Create our 4 engineered features\n",
    "# Success Rate\n",
    "df['sem1_pass_rate'] = df['Curricular units 1st sem (approved)'] / df['Curricular units 1st sem (enrolled)']\n",
    "df['sem1_pass_rate'].fillna(0, inplace=True)\n",
    "# Completion Rate\n",
    "df['sem1_eval_completion_rate'] = df['Curricular units 1st sem (evaluations)'] / df['Curricular units 1st sem (enrolled)']\n",
    "df['sem1_eval_completion_rate'].fillna(0, inplace=True)\n",
    "# Maturity\n",
    "df['is_mature_student'] = (df['Age at enrollment'] > 25).astype(int)\n",
    "# Financial Strain\n",
    "df['financial_strain'] = ((df['Debtor'] == 1) & (df['Tuition fees up to date'] == 0)).astype(int)\n",
    "\n",
    "# 1c. Identify final categorical and numerical columns\n",
    "categorical_cols = [\n",
    "    'Marital status', 'Application mode', 'Course', 'Daytime/evening attendance',\n",
    "    'Previous qualification', 'Nacionality', \"Mother's qualification\", \"Father's qualification\",\n",
    "    \"Mother's occupation\", \"Father's occupation\", 'Displaced', 'Educational special needs',\n",
    "    'Debtor', 'Tuition fees up to date', 'Gender', 'Scholarship holder', 'International'\n",
    "]\n",
    "\n",
    "numerical_cols = [\n",
    "    'Application order', 'Age at enrollment', 'Curricular units 1st sem (credited)',\n",
    "    'Curricular units 1st sem (enrolled)', 'Curricular units 1st sem (evaluations)',\n",
    "    'Curricular units 1st sem (approved)', 'Curricular units 1st sem (grade)',\n",
    "    'Curricular units 1st sem (without evaluations)', 'Curricular units 2nd sem (credited)',\n",
    "    'Curricular units 2nd sem (enrolled)', 'Curricular units 2nd sem (evaluations)',\n",
    "    'Curricular units 2nd sem (approved)', 'Curricular units 2nd sem (grade)',\n",
    "    'Curricular units 2nd sem (without evaluations)', 'Unemployment rate', 'Inflation rate', 'GDP',\n",
    "    # We must include our new numerical features here to be scaled!\n",
    "    'sem1_pass_rate', 'sem1_eval_completion_rate', 'is_mature_student', 'financial_strain'\n",
    "]\n",
    "\n",
    "# 1d. One-hot encode the categorical columns\n",
    "df = pd.get_dummies(df, columns=categorical_cols, drop_first=True)\n",
    "\n",
    "# 1e. Scale the numerical columns\n",
    "scaler = StandardScaler()\n",
    "df[numerical_cols] = scaler.fit_transform(df[numerical_cols])\n",
    "\n",
    "\n",
    "# --- STEP 2: ENCODE THE TARGET VARIABLE ---\n",
    "target_map = {'Dropout': 0, 'Enrolled': 1, 'Graduate': 2}\n",
    "df['Target'] = df['Target'].map(target_map)\n",
    "\n",
    "\n",
    "# --- STEP 3: SEPARATE FEATURES (X) AND TARGET (y) ---\n",
    "X = df.drop('Target', axis=1)\n",
    "y = df['Target']\n",
    "\n",
    "\n",
    "# --- STEP 4: CREATE TRAINING AND TESTING SETS ---\n",
    "# We'll use 80% of the data for training and 20% for testing.\n",
    "# stratify=y makes sure the proportion of dropouts/graduates is the same in both sets.\n",
    "X_train, X_test, y_train, y_test = train_test_split(X, y, test_size=0.2, random_state=42, stratify=y)\n",
    "\n",
    "\n",
    "# --- Final Verification ---\n",
    "print(\"Preprocessing Complete!\")\n",
    "print(\"Shape of our training features (X_train):\", X_train.shape)\n",
    "print(\"Shape of our testing features (X_test):\", X_test.shape)\n",
    "print(\"Shape of our training target (y_train):\", y_train.shape)\n",
    "print(\"Shape of our testing target (y_test):\", y_test.shape)"
   ]
  },
  {
   "cell_type": "code",
   "execution_count": 113,
   "id": "17b4cf33",
   "metadata": {},
   "outputs": [
    {
     "name": "stdout",
     "output_type": "stream",
     "text": [
      "Training the XGBoost model...\n"
     ]
    },
    {
     "name": "stderr",
     "output_type": "stream",
     "text": [
      "2025/09/14 18:49:23 WARNING mlflow.models.model: `artifact_path` is deprecated. Please use `name` instead.\n"
     ]
    },
    {
     "name": "stdout",
     "output_type": "stream",
     "text": [
      "Training complete.\n",
      "\n",
      "--- Model Performance ---\n",
      "Accuracy: 0.7650\n",
      "Precision: 0.7523\n",
      "Recall: 0.7650\n",
      "F1-Score: 0.7562\n",
      "\n",
      "Logging run to MLflow...\n"
     ]
    },
    {
     "name": "stderr",
     "output_type": "stream",
     "text": [
      "/Users/shaguntembhurne/all_github/student-dropout-prediction/.venv/lib/python3.12/site-packages/xgboost/sklearn.py:1028: UserWarning: [18:49:23] WARNING: /Users/runner/work/xgboost/xgboost/src/c_api/c_api.cc:1427: Saving model in the UBJSON format as default.  You can use file extension: `json`, `ubj` or `deprecated` to choose between formats.\n",
      "  self.get_booster().save_model(fname)\n",
      "2025/09/14 18:49:25 WARNING mlflow.utils.environment: Encountered an unexpected error while inferring pip requirements (model URI: /var/folders/5g/d4w65y255q71sd01crv0ynm00000gn/T/tmpkg6zvldo/model, flavor: xgboost). Fall back to return ['xgboost==3.0.5']. Set logging level to DEBUG to see the full traceback. \n",
      "\u001b[31m2025/09/14 18:49:25 WARNING mlflow.models.model: Model logged without a signature and input example. Please set `input_example` parameter when logging the model to auto infer the model signature.\u001b[0m\n"
     ]
    },
    {
     "name": "stdout",
     "output_type": "stream",
     "text": [
      "Run logged successfully!\n"
     ]
    }
   ],
   "source": [
    "import xgboost as xgb\n",
    "from sklearn.metrics import accuracy_score, precision_score, recall_score, f1_score\n",
    "import mlflow\n",
    "import mlflow.xgboost\n",
    "\n",
    "# --- Step 1: Set up MLflow ---\n",
    "# This creates a new \"Experiment\" in MLflow to keep our runs organized\n",
    "mlflow.set_experiment(\"Student Dropout Prediction\")\n",
    "\n",
    "# This starts a new \"Run\". Everything we do inside this block will be logged.\n",
    "with mlflow.start_run():\n",
    "\n",
    "    # --- Step 2: Define and Train the XGBoost Model ---\n",
    "    # We use XGBClassifier because this is a classification problem.\n",
    "    # objective='multi:softmax' tells the model we have more than 2 classes.\n",
    "    # num_class=3 tells it we have 3 outcomes (Dropout, Enrolled, Graduate).\n",
    "    model = xgb.XGBClassifier(\n",
    "        objective='multi:softmax',\n",
    "        num_class=3,\n",
    "        random_state=42\n",
    "    )\n",
    "\n",
    "    print(\"Training the XGBoost model...\")\n",
    "    # The model learns from the training data\n",
    "    model.fit(X_train, y_train)\n",
    "    print(\"Training complete.\")\n",
    "\n",
    "\n",
    "    # --- Step 3: Evaluate the Model's Performance ---\n",
    "    # The model makes predictions on the test data it has never seen before\n",
    "    y_pred = model.predict(X_test)\n",
    "\n",
    "    # Calculate the performance metrics\n",
    "    accuracy = accuracy_score(y_test, y_pred)\n",
    "    # 'weighted' average is good for multi-class problems as it accounts for imbalance\n",
    "    precision = precision_score(y_test, y_pred, average='weighted')\n",
    "    recall = recall_score(y_test, y_pred, average='weighted')\n",
    "    f1 = f1_score(y_test, y_pred, average='weighted')\n",
    "\n",
    "    # Print the results so you can see them immediately\n",
    "    print(f\"\\n--- Model Performance ---\")\n",
    "    print(f\"Accuracy: {accuracy:.4f}\")\n",
    "    print(f\"Precision: {precision:.4f}\")\n",
    "    print(f\"Recall: {recall:.4f}\")\n",
    "    print(f\"F1-Score: {f1:.4f}\")\n",
    "\n",
    "\n",
    "    # --- Step 4: Log Everything to MLflow ---\n",
    "    print(\"\\nLogging run to MLflow...\")\n",
    "    # Log the parameters (settings) we used for our model\n",
    "    mlflow.log_param(\"model_type\", \"XGBClassifier\")\n",
    "    mlflow.log_param(\"objective\", \"multi:softmax\")\n",
    "\n",
    "    # Log the metrics (results) we calculated\n",
    "    mlflow.log_metric(\"accuracy\", accuracy)\n",
    "    mlflow.log_metric(\"precision_weighted\", precision)\n",
    "    mlflow.log_metric(\"recall_weighted\", recall)\n",
    "    mlflow.log_metric(\"f1_weighted\", f1)\n",
    "\n",
    "    # This is the most important part: save the actual trained model\n",
    "    mlflow.xgboost.log_model(model, \"xgboost-model\")\n",
    "    print(\"Run logged successfully!\")"
   ]
  },
  {
   "cell_type": "code",
   "execution_count": 114,
   "id": "5331384f",
   "metadata": {},
   "outputs": [
    {
     "name": "stdout",
     "output_type": "stream",
     "text": [
      "Starting Hyperparameter Tuning...\n",
      "\n",
      "--- Training with lr=0.1, max_depth=3, n_estimators=100 ---\n"
     ]
    },
    {
     "name": "stderr",
     "output_type": "stream",
     "text": [
      "2025/09/14 19:09:02 WARNING mlflow.models.model: `artifact_path` is deprecated. Please use `name` instead.\n"
     ]
    },
    {
     "name": "stdout",
     "output_type": "stream",
     "text": [
      "Accuracy: 0.7638\n"
     ]
    },
    {
     "name": "stderr",
     "output_type": "stream",
     "text": [
      "/Users/shaguntembhurne/all_github/student-dropout-prediction/.venv/lib/python3.12/site-packages/xgboost/sklearn.py:1028: UserWarning: [19:09:02] WARNING: /Users/runner/work/xgboost/xgboost/src/c_api/c_api.cc:1427: Saving model in the UBJSON format as default.  You can use file extension: `json`, `ubj` or `deprecated` to choose between formats.\n",
      "  self.get_booster().save_model(fname)\n",
      "2025/09/14 19:09:04 WARNING mlflow.utils.environment: Encountered an unexpected error while inferring pip requirements (model URI: /var/folders/5g/d4w65y255q71sd01crv0ynm00000gn/T/tmpwos407g_/model, flavor: xgboost). Fall back to return ['xgboost==3.0.5']. Set logging level to DEBUG to see the full traceback. \n",
      "\u001b[31m2025/09/14 19:09:04 WARNING mlflow.models.model: Model logged without a signature and input example. Please set `input_example` parameter when logging the model to auto infer the model signature.\u001b[0m\n"
     ]
    },
    {
     "name": "stdout",
     "output_type": "stream",
     "text": [
      "\n",
      "--- Training with lr=0.1, max_depth=3, n_estimators=200 ---\n"
     ]
    },
    {
     "name": "stderr",
     "output_type": "stream",
     "text": [
      "2025/09/14 19:09:05 WARNING mlflow.models.model: `artifact_path` is deprecated. Please use `name` instead.\n"
     ]
    },
    {
     "name": "stdout",
     "output_type": "stream",
     "text": [
      "Accuracy: 0.7638\n"
     ]
    },
    {
     "name": "stderr",
     "output_type": "stream",
     "text": [
      "/Users/shaguntembhurne/all_github/student-dropout-prediction/.venv/lib/python3.12/site-packages/xgboost/sklearn.py:1028: UserWarning: [19:09:05] WARNING: /Users/runner/work/xgboost/xgboost/src/c_api/c_api.cc:1427: Saving model in the UBJSON format as default.  You can use file extension: `json`, `ubj` or `deprecated` to choose between formats.\n",
      "  self.get_booster().save_model(fname)\n",
      "2025/09/14 19:09:06 WARNING mlflow.utils.environment: Encountered an unexpected error while inferring pip requirements (model URI: /var/folders/5g/d4w65y255q71sd01crv0ynm00000gn/T/tmp480si5aa/model, flavor: xgboost). Fall back to return ['xgboost==3.0.5']. Set logging level to DEBUG to see the full traceback. \n",
      "\u001b[31m2025/09/14 19:09:06 WARNING mlflow.models.model: Model logged without a signature and input example. Please set `input_example` parameter when logging the model to auto infer the model signature.\u001b[0m\n"
     ]
    },
    {
     "name": "stdout",
     "output_type": "stream",
     "text": [
      "\n",
      "--- Training with lr=0.1, max_depth=6, n_estimators=100 ---\n"
     ]
    },
    {
     "name": "stderr",
     "output_type": "stream",
     "text": [
      "2025/09/14 19:09:07 WARNING mlflow.models.model: `artifact_path` is deprecated. Please use `name` instead.\n"
     ]
    },
    {
     "name": "stdout",
     "output_type": "stream",
     "text": [
      "Accuracy: 0.7548\n"
     ]
    },
    {
     "name": "stderr",
     "output_type": "stream",
     "text": [
      "/Users/shaguntembhurne/all_github/student-dropout-prediction/.venv/lib/python3.12/site-packages/xgboost/sklearn.py:1028: UserWarning: [19:09:07] WARNING: /Users/runner/work/xgboost/xgboost/src/c_api/c_api.cc:1427: Saving model in the UBJSON format as default.  You can use file extension: `json`, `ubj` or `deprecated` to choose between formats.\n",
      "  self.get_booster().save_model(fname)\n",
      "2025/09/14 19:09:08 WARNING mlflow.utils.environment: Encountered an unexpected error while inferring pip requirements (model URI: /var/folders/5g/d4w65y255q71sd01crv0ynm00000gn/T/tmpjbfyzqrr/model, flavor: xgboost). Fall back to return ['xgboost==3.0.5']. Set logging level to DEBUG to see the full traceback. \n",
      "\u001b[31m2025/09/14 19:09:08 WARNING mlflow.models.model: Model logged without a signature and input example. Please set `input_example` parameter when logging the model to auto infer the model signature.\u001b[0m\n"
     ]
    },
    {
     "name": "stdout",
     "output_type": "stream",
     "text": [
      "\n",
      "--- Training with lr=0.1, max_depth=6, n_estimators=200 ---\n"
     ]
    },
    {
     "name": "stderr",
     "output_type": "stream",
     "text": [
      "2025/09/14 19:09:09 WARNING mlflow.models.model: `artifact_path` is deprecated. Please use `name` instead.\n"
     ]
    },
    {
     "name": "stdout",
     "output_type": "stream",
     "text": [
      "Accuracy: 0.7616\n"
     ]
    },
    {
     "name": "stderr",
     "output_type": "stream",
     "text": [
      "/Users/shaguntembhurne/all_github/student-dropout-prediction/.venv/lib/python3.12/site-packages/xgboost/sklearn.py:1028: UserWarning: [19:09:09] WARNING: /Users/runner/work/xgboost/xgboost/src/c_api/c_api.cc:1427: Saving model in the UBJSON format as default.  You can use file extension: `json`, `ubj` or `deprecated` to choose between formats.\n",
      "  self.get_booster().save_model(fname)\n",
      "2025/09/14 19:09:11 WARNING mlflow.utils.environment: Encountered an unexpected error while inferring pip requirements (model URI: /var/folders/5g/d4w65y255q71sd01crv0ynm00000gn/T/tmprxv3qam3/model, flavor: xgboost). Fall back to return ['xgboost==3.0.5']. Set logging level to DEBUG to see the full traceback. \n",
      "\u001b[31m2025/09/14 19:09:11 WARNING mlflow.models.model: Model logged without a signature and input example. Please set `input_example` parameter when logging the model to auto infer the model signature.\u001b[0m\n"
     ]
    },
    {
     "name": "stdout",
     "output_type": "stream",
     "text": [
      "\n",
      "--- Training with lr=0.3, max_depth=3, n_estimators=100 ---\n"
     ]
    },
    {
     "name": "stderr",
     "output_type": "stream",
     "text": [
      "2025/09/14 19:09:11 WARNING mlflow.models.model: `artifact_path` is deprecated. Please use `name` instead.\n"
     ]
    },
    {
     "name": "stdout",
     "output_type": "stream",
     "text": [
      "Accuracy: 0.7661\n"
     ]
    },
    {
     "name": "stderr",
     "output_type": "stream",
     "text": [
      "/Users/shaguntembhurne/all_github/student-dropout-prediction/.venv/lib/python3.12/site-packages/xgboost/sklearn.py:1028: UserWarning: [19:09:11] WARNING: /Users/runner/work/xgboost/xgboost/src/c_api/c_api.cc:1427: Saving model in the UBJSON format as default.  You can use file extension: `json`, `ubj` or `deprecated` to choose between formats.\n",
      "  self.get_booster().save_model(fname)\n",
      "2025/09/14 19:09:13 WARNING mlflow.utils.environment: Encountered an unexpected error while inferring pip requirements (model URI: /var/folders/5g/d4w65y255q71sd01crv0ynm00000gn/T/tmpnm36a11h/model, flavor: xgboost). Fall back to return ['xgboost==3.0.5']. Set logging level to DEBUG to see the full traceback. \n",
      "\u001b[31m2025/09/14 19:09:13 WARNING mlflow.models.model: Model logged without a signature and input example. Please set `input_example` parameter when logging the model to auto infer the model signature.\u001b[0m\n"
     ]
    },
    {
     "name": "stdout",
     "output_type": "stream",
     "text": [
      "\n",
      "--- Training with lr=0.3, max_depth=3, n_estimators=200 ---\n"
     ]
    },
    {
     "name": "stderr",
     "output_type": "stream",
     "text": [
      "2025/09/14 19:09:13 WARNING mlflow.models.model: `artifact_path` is deprecated. Please use `name` instead.\n"
     ]
    },
    {
     "name": "stdout",
     "output_type": "stream",
     "text": [
      "Accuracy: 0.7672\n"
     ]
    },
    {
     "name": "stderr",
     "output_type": "stream",
     "text": [
      "/Users/shaguntembhurne/all_github/student-dropout-prediction/.venv/lib/python3.12/site-packages/xgboost/sklearn.py:1028: UserWarning: [19:09:13] WARNING: /Users/runner/work/xgboost/xgboost/src/c_api/c_api.cc:1427: Saving model in the UBJSON format as default.  You can use file extension: `json`, `ubj` or `deprecated` to choose between formats.\n",
      "  self.get_booster().save_model(fname)\n",
      "2025/09/14 19:09:15 WARNING mlflow.utils.environment: Encountered an unexpected error while inferring pip requirements (model URI: /var/folders/5g/d4w65y255q71sd01crv0ynm00000gn/T/tmpi183lzco/model, flavor: xgboost). Fall back to return ['xgboost==3.0.5']. Set logging level to DEBUG to see the full traceback. \n",
      "\u001b[31m2025/09/14 19:09:15 WARNING mlflow.models.model: Model logged without a signature and input example. Please set `input_example` parameter when logging the model to auto infer the model signature.\u001b[0m\n"
     ]
    },
    {
     "name": "stdout",
     "output_type": "stream",
     "text": [
      "\n",
      "--- Training with lr=0.3, max_depth=6, n_estimators=100 ---\n"
     ]
    },
    {
     "name": "stderr",
     "output_type": "stream",
     "text": [
      "2025/09/14 19:09:15 WARNING mlflow.models.model: `artifact_path` is deprecated. Please use `name` instead.\n"
     ]
    },
    {
     "name": "stdout",
     "output_type": "stream",
     "text": [
      "Accuracy: 0.7650\n"
     ]
    },
    {
     "name": "stderr",
     "output_type": "stream",
     "text": [
      "/Users/shaguntembhurne/all_github/student-dropout-prediction/.venv/lib/python3.12/site-packages/xgboost/sklearn.py:1028: UserWarning: [19:09:15] WARNING: /Users/runner/work/xgboost/xgboost/src/c_api/c_api.cc:1427: Saving model in the UBJSON format as default.  You can use file extension: `json`, `ubj` or `deprecated` to choose between formats.\n",
      "  self.get_booster().save_model(fname)\n",
      "2025/09/14 19:09:16 WARNING mlflow.utils.environment: Encountered an unexpected error while inferring pip requirements (model URI: /var/folders/5g/d4w65y255q71sd01crv0ynm00000gn/T/tmpct13ohbp/model, flavor: xgboost). Fall back to return ['xgboost==3.0.5']. Set logging level to DEBUG to see the full traceback. \n",
      "\u001b[31m2025/09/14 19:09:16 WARNING mlflow.models.model: Model logged without a signature and input example. Please set `input_example` parameter when logging the model to auto infer the model signature.\u001b[0m\n"
     ]
    },
    {
     "name": "stdout",
     "output_type": "stream",
     "text": [
      "\n",
      "--- Training with lr=0.3, max_depth=6, n_estimators=200 ---\n"
     ]
    },
    {
     "name": "stderr",
     "output_type": "stream",
     "text": [
      "2025/09/14 19:09:18 WARNING mlflow.models.model: `artifact_path` is deprecated. Please use `name` instead.\n"
     ]
    },
    {
     "name": "stdout",
     "output_type": "stream",
     "text": [
      "Accuracy: 0.7650\n"
     ]
    },
    {
     "name": "stderr",
     "output_type": "stream",
     "text": [
      "/Users/shaguntembhurne/all_github/student-dropout-prediction/.venv/lib/python3.12/site-packages/xgboost/sklearn.py:1028: UserWarning: [19:09:18] WARNING: /Users/runner/work/xgboost/xgboost/src/c_api/c_api.cc:1427: Saving model in the UBJSON format as default.  You can use file extension: `json`, `ubj` or `deprecated` to choose between formats.\n",
      "  self.get_booster().save_model(fname)\n",
      "2025/09/14 19:09:19 WARNING mlflow.utils.environment: Encountered an unexpected error while inferring pip requirements (model URI: /var/folders/5g/d4w65y255q71sd01crv0ynm00000gn/T/tmpikaf59fw/model, flavor: xgboost). Fall back to return ['xgboost==3.0.5']. Set logging level to DEBUG to see the full traceback. \n",
      "\u001b[31m2025/09/14 19:09:19 WARNING mlflow.models.model: Model logged without a signature and input example. Please set `input_example` parameter when logging the model to auto infer the model signature.\u001b[0m\n"
     ]
    },
    {
     "name": "stdout",
     "output_type": "stream",
     "text": [
      "\n",
      "Hyperparameter Tuning Complete!\n"
     ]
    }
   ],
   "source": [
    "import xgboost as xgb\n",
    "from sklearn.metrics import accuracy_score\n",
    "import mlflow\n",
    "import mlflow.xgboost\n",
    "\n",
    "# --- Step 1: Set up the MLflow Experiment ---\n",
    "mlflow.set_experiment(\"Student Dropout Prediction\")\n",
    "\n",
    "# --- Step 2: Define the \"Grid\" of Hyperparameters to Test ---\n",
    "# We'll try 2 different values for each of our 3 chosen parameters.\n",
    "# This will result in 2 * 2 * 2 = 8 total experiments.\n",
    "learning_rates = [0.1, 0.3]\n",
    "max_depths = [3, 6]\n",
    "n_estimators_list = [100, 200]\n",
    "\n",
    "print(\"Starting Hyperparameter Tuning...\")\n",
    "\n",
    "# --- Step 3: Loop Through Every Combination ---\n",
    "for lr in learning_rates:\n",
    "    for md in max_depths:\n",
    "        for ne in n_estimators_list:\n",
    "            \n",
    "            # This starts a new \"Run\" for each unique combination\n",
    "            with mlflow.start_run():\n",
    "                \n",
    "                # --- A. Log the Parameters for This Run ---\n",
    "                mlflow.log_param(\"learning_rate\", lr)\n",
    "                mlflow.log_param(\"max_depth\", md)\n",
    "                mlflow.log_param(\"n_estimators\", ne)\n",
    "                \n",
    "                # Print to the notebook so we can see our progress\n",
    "                print(f\"\\n--- Training with lr={lr}, max_depth={md}, n_estimators={ne} ---\")\n",
    "\n",
    "                # --- B. Define and Train the Model with the Current Parameters ---\n",
    "                model = xgb.XGBClassifier(\n",
    "                    objective='multi:softmax',\n",
    "                    num_class=3,\n",
    "                    learning_rate=lr,\n",
    "                    max_depth=md,\n",
    "                    n_estimators=ne,\n",
    "                    random_state=42\n",
    "                )\n",
    "                model.fit(X_train, y_train)\n",
    "\n",
    "                # --- C. Evaluate the Model ---\n",
    "                y_pred = model.predict(X_test)\n",
    "                accuracy = accuracy_score(y_test, y_pred)\n",
    "                print(f\"Accuracy: {accuracy:.4f}\")\n",
    "\n",
    "                # --- D. Log the Resulting Metric and Model ---\n",
    "                mlflow.log_metric(\"accuracy\", accuracy)\n",
    "                mlflow.xgboost.log_model(model, \"xgboost-model\")\n",
    "\n",
    "print(\"\\nHyperparameter Tuning Complete!\")"
   ]
  },
  {
   "cell_type": "code",
   "execution_count": 115,
   "id": "92edd843",
   "metadata": {},
   "outputs": [
    {
     "name": "stdout",
     "output_type": "stream",
     "text": [
      "Scaler and model columns saved successfully!\n"
     ]
    }
   ],
   "source": [
    "from joblib import dump\n",
    "\n",
    "# Assuming 'scaler' is your fitted StandardScaler object from preprocessing\n",
    "dump(scaler, 'scaler.joblib') \n",
    "\n",
    "# Assuming 'X_train' is your final, preprocessed training DataFrame\n",
    "dump(X_train.columns, 'model_columns.joblib')\n",
    "\n",
    "print(\"Scaler and model columns saved successfully!\")"
   ]
  },
  {
   "cell_type": "code",
   "execution_count": null,
   "id": "511adab2",
   "metadata": {},
   "outputs": [],
   "source": []
  }
 ],
 "metadata": {
  "kernelspec": {
   "display_name": ".venv",
   "language": "python",
   "name": "python3"
  },
  "language_info": {
   "codemirror_mode": {
    "name": "ipython",
    "version": 3
   },
   "file_extension": ".py",
   "mimetype": "text/x-python",
   "name": "python",
   "nbconvert_exporter": "python",
   "pygments_lexer": "ipython3",
   "version": "3.12.8"
  }
 },
 "nbformat": 4,
 "nbformat_minor": 5
}
